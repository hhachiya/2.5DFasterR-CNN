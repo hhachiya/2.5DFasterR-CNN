{
  "nbformat": 4,
  "nbformat_minor": 0,
  "metadata": {
    "colab": {
      "name": "Untitled0.ipynb",
      "version": "0.3.2",
      "provenance": [],
      "include_colab_link": true
    },
    "kernelspec": {
      "name": "python3",
      "display_name": "Python 3"
    }
  },
  "cells": [
    {
      "cell_type": "markdown",
      "metadata": {
        "id": "view-in-github",
        "colab_type": "text"
      },
      "source": [
        "<a href=\"https://colab.research.google.com/github/hhachiya/2.5DFasterR-CNN/blob/master/Untitled0.ipynb\" target=\"_parent\"><img src=\"https://colab.research.google.com/assets/colab-badge.svg\" alt=\"Open In Colab\"/></a>"
      ]
    },
    {
      "cell_type": "markdown",
      "metadata": {
        "id": "yAUUlE-7b3QG",
        "colab_type": "text"
      },
      "source": [
        ""
      ]
    },
    {
      "cell_type": "code",
      "metadata": {
        "id": "mO3w9i7Eb6lN",
        "colab_type": "code",
        "colab": {}
      },
      "source": [
        "from google.colab import drive"
      ],
      "execution_count": 0,
      "outputs": []
    },
    {
      "cell_type": "code",
      "metadata": {
        "id": "oT7psLIFceA0",
        "colab_type": "code",
        "outputId": "3d051712-e733-4bb8-e0da-8fdf2406fe68",
        "colab": {
          "base_uri": "https://localhost:8080/",
          "height": 126
        }
      },
      "source": [
        "drive.mount('/content/drive')"
      ],
      "execution_count": 0,
      "outputs": [
        {
          "output_type": "stream",
          "text": [
            "Go to this URL in a browser: https://accounts.google.com/o/oauth2/auth?client_id=947318989803-6bn6qk8qdgf4n4g3pfee6491hc0brc4i.apps.googleusercontent.com&redirect_uri=urn%3Aietf%3Awg%3Aoauth%3A2.0%3Aoob&scope=email%20https%3A%2F%2Fwww.googleapis.com%2Fauth%2Fdocs.test%20https%3A%2F%2Fwww.googleapis.com%2Fauth%2Fdrive%20https%3A%2F%2Fwww.googleapis.com%2Fauth%2Fdrive.photos.readonly%20https%3A%2F%2Fwww.googleapis.com%2Fauth%2Fpeopleapi.readonly&response_type=code\n",
            "\n",
            "Enter your authorization code:\n",
            "··········\n",
            "Mounted at /content/drive\n"
          ],
          "name": "stdout"
        }
      ]
    },
    {
      "cell_type": "code",
      "metadata": {
        "id": "H7PDfYDQcha8",
        "colab_type": "code",
        "colab": {}
      },
      "source": [
        "import pandas as pd \n",
        "data= pd.read_csv('drive/My Drive/Data/house-prices-advanced-regression-techniques/house_prices_train.csv')"
      ],
      "execution_count": 0,
      "outputs": []
    },
    {
      "cell_type": "code",
      "metadata": {
        "id": "NoFs9VJNezBt",
        "colab_type": "code",
        "outputId": "2593e7cf-b581-4d81-bfc6-79d3003b7fbe",
        "colab": {
          "base_uri": "https://localhost:8080/",
          "height": 297
        }
      },
      "source": [
        "import matplotlib.pylab as plt\n",
        "fig = plt.figure()\n",
        "\n",
        "# LotArea対SalePriceの散布図\n",
        "ax=fig.add_subplot(1,2,1)  #グラフの位置指定（1行2列の1列目）\n",
        "ax.plot(data['LotArea'],data['SalePrice'],'.')\n",
        "ax.set_xlabel('LotArea')  #x軸のラベル\n",
        "ax.set_ylabel('SalePrice')   #y軸のラベル\n",
        "\n",
        "# MSSubClass対SalePriceの散布図\n",
        "ax=fig.add_subplot(1,2,2)  #グラフの位置指定（1行2列の2列目）\n",
        "ax.plot(data['MSSubClass'],data['SalePrice'],'.')\n",
        "ax.set_xlabel('MSSubClass')  #x軸のラベル\n",
        "ax.set_ylabel('SalePrice')  #y軸のラベル\n",
        "\n",
        "fig.tight_layout()  # グラフ間に隙間をあける\n",
        "plt.show()  # グラフの表示"
      ],
      "execution_count": 0,
      "outputs": [
        {
          "output_type": "display_data",
          "data": {
            "image/png": "[encoded data removed]",
            "text/plain": [
              "<Figure size 432x288 with 2 Axes>"
            ]
          },
          "metadata": {
            "tags": []
          }
        }
      ]
    }
  ]
}